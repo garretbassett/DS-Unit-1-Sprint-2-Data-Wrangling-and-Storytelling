{
  "nbformat": 4,
  "nbformat_minor": 0,
  "metadata": {
    "colab": {
      "name": "MatplotLib Cheat Sheet.ipynb",
      "version": "0.3.2",
      "provenance": [],
      "include_colab_link": true
    },
    "kernelspec": {
      "name": "python3",
      "display_name": "Python 3"
    }
  },
  "cells": [
    {
      "cell_type": "markdown",
      "metadata": {
        "id": "view-in-github",
        "colab_type": "text"
      },
      "source": [
        "<a href=\"https://colab.research.google.com/github/bundickm/CheatSheets/blob/master/MatplotLib_Cheat_Sheet.ipynb\" target=\"_parent\"><img src=\"https://colab.research.google.com/assets/colab-badge.svg\" alt=\"Open In Colab\"/></a>"
      ]
    },
    {
      "cell_type": "markdown",
      "metadata": {
        "id": "scYlDp1juC8D",
        "colab_type": "text"
      },
      "source": [
        "#Resources"
      ]
    },
    {
      "cell_type": "markdown",
      "metadata": {
        "id": "UQ-rbLYwx6D6",
        "colab_type": "text"
      },
      "source": [
        "[Anatomy of the Graphing Space](https://matplotlib.org/_images/anatomy.png)\n",
        "\n",
        "---\n",
        "[Poster of Map Types and Uses](https://raw.githubusercontent.com/ft-interactive/chart-doctor/master/visual-vocabulary/poster.png)\n",
        "\n",
        "[Data Science Handbook: Matplotlib Visualizations](https://jakevdp.github.io/PythonDataScienceHandbook/04.00-introduction-to-matplotlib.html)\n",
        "\n",
        "---\n",
        "[Pandas.plot for Quick and Dirty Visualizations](https://pandas.pydata.org/pandas-docs/stable/reference/api/pandas.DataFrame.plot.html)\n",
        "\n",
        "[Matplotlib.pyplot.plot Documentation](https://matplotlib.org/api/_as_gen/matplotlib.pyplot.plot.html)\n",
        "\n",
        "[Seaborn Documentation](https://seaborn.pydata.org/) (Not covered in this Cheat Sheet)"
      ]
    },
    {
      "cell_type": "markdown",
      "metadata": {
        "id": "H_deeTJvt_hr",
        "colab_type": "text"
      },
      "source": [
        "#Basic Examples"
      ]
    },
    {
      "cell_type": "code",
      "metadata": {
        "id": "fvBSwp450ul9",
        "colab_type": "code",
        "colab": {}
      },
      "source": [
        "#import and aliasing\n",
        "import matplotlib.pyplot as plt\n",
        "import numpy as np"
      ],
      "execution_count": 0,
      "outputs": []
    },
    {
      "cell_type": "code",
      "metadata": {
        "id": "qEJpkich_0sA",
        "colab_type": "code",
        "colab": {}
      },
      "source": [
        "#scatter plot\n",
        "\n",
        "#dummy data for the graphs\n",
        "x = np.linspace(0, 10, 30)\n",
        "y = np.sin(x)\n",
        "\n",
        "#new instance of fig and ax\n",
        "fig, ax = plt.subplots()\n",
        "\n",
        "#plot it\n",
        "ax.scatter(x, y, marker='o');\n",
        "\n",
        "#labels and title\n",
        "ax.set_xlabel('x')\n",
        "ax.set_ylabel('y')\n",
        "ax.set_title('title')\n",
        "\n",
        "#show your work\n",
        "plt.show()"
      ],
      "execution_count": 0,
      "outputs": []
    },
    {
      "cell_type": "code",
      "metadata": {
        "id": "KAAtD6lKQz6L",
        "colab_type": "code",
        "colab": {}
      },
      "source": [
        "#line graph\n",
        "\n",
        "#dummy data for the graphs\n",
        "x = np.linspace(0, 5, 11)\n",
        "y = x ** 2\n",
        "\n",
        "#new instance of fig and ax from unpacking the subplot tupple\n",
        "fig, ax = plt.subplots()\n",
        "\n",
        "#plot it\n",
        "ax.plot(x,y,'r')\n",
        "\n",
        "#labels and title\n",
        "ax.set_xlabel('x')\n",
        "ax.set_ylabel('y')\n",
        "ax.set_title('title')\n",
        "\n",
        "#show your work\n",
        "plt.show()"
      ],
      "execution_count": 0,
      "outputs": []
    },
    {
      "cell_type": "code",
      "metadata": {
        "id": "lMkK32T8Uf69",
        "colab_type": "code",
        "colab": {}
      },
      "source": [
        "#histogram\n",
        "\n",
        "#dummy data\n",
        "x = [21,22,23,4,5,6,77,8,9,10,31,32,33,34,35,36,37,18,49,50,100]\n",
        "\n",
        "#plot a histogram\n",
        "plt.hist(x, bins=5, edgecolor='black')\n",
        "\n",
        "plt.show()"
      ],
      "execution_count": 0,
      "outputs": []
    },
    {
      "cell_type": "code",
      "metadata": {
        "id": "t2F9HdWPNCfg",
        "colab_type": "code",
        "colab": {}
      },
      "source": [
        "#horizontal bar plot using barh\n",
        "\n",
        "fig, ax = plt.subplots() #new instance of fig and ax\n",
        "\n",
        "# Fixing random state for reproducibility\n",
        "np.random.seed(19680801)\n",
        "\n",
        "# Example data\n",
        "people = ('Tom', 'Dick', 'Harry', 'Slim', 'Jim')\n",
        "y_pos = np.arange(len(people))\n",
        "performance = 3 + 10 * np.random.rand(len(people))\n",
        "error = np.random.rand(len(people))\n",
        "\n",
        "ax.barh(y_pos, performance, xerr=error, #plot bars with error bars\n",
        "        align='center', color='green', ecolor='black')\n",
        "\n",
        "ax.set_yticks(y_pos) #Set ticks along left spine spaced by number of categories\n",
        "ax.set_yticklabels(people) #label our ticks\n",
        "ax.invert_yaxis()  # labels read top-to-bottom\n",
        "\n",
        "#label and title\n",
        "ax.set_xlabel('X Label')\n",
        "ax.set_title('Title')\n",
        "\n",
        "#show your work\n",
        "plt.show()"
      ],
      "execution_count": 0,
      "outputs": []
    },
    {
      "cell_type": "code",
      "metadata": {
        "id": "WcZrr0iaOj5F",
        "colab_type": "code",
        "colab": {}
      },
      "source": [
        "#piechart\n",
        "\n",
        "#new instance of fig and ax\n",
        "fig, ax = plt.subplots()\n",
        "\n",
        "# Example data\n",
        "people = ('Tom', 'Dick', 'Harry', 'Slim', 'Jim')\n",
        "performance = 3 + 10 * np.random.rand(len(people))\n",
        "\n",
        "#title\n",
        "ax.set_title('How much pie did you eat?')\n",
        "\n",
        "#Plot and show your work\n",
        "ax.pie(performance, labels=people)\n",
        "plt.show()"
      ],
      "execution_count": 0,
      "outputs": []
    },
    {
      "cell_type": "code",
      "metadata": {
        "id": "llJ_5dEnBCHp",
        "colab_type": "code",
        "colab": {}
      },
      "source": [
        "#bubble plot\n",
        "\n",
        "#dummy data\n",
        "rng = np.random.RandomState(0)\n",
        "x = rng.randn(100)\n",
        "y = rng.randn(100)\n",
        "\n",
        "#define size and coloring\n",
        "colors = rng.rand(100)\n",
        "sizes = 1000 * rng.rand(100)\n",
        "\n",
        "#Scatter plot\n",
        "plt.scatter(x, y, c=colors, s=sizes, alpha=0.3, cmap='viridis')\n",
        "\n",
        "#show color scale\n",
        "plt.colorbar()  "
      ],
      "execution_count": 0,
      "outputs": []
    },
    {
      "cell_type": "code",
      "metadata": {
        "id": "V_MjWfGARA15",
        "colab_type": "code",
        "colab": {}
      },
      "source": [
        "#subplots\n",
        "\n",
        "#dummy data for the graphs\n",
        "x = np.linspace(0, 5, 11)\n",
        "y = x ** 2\n",
        "\n",
        "#new instance of fig and axes with two plots side by side\n",
        "fig, axes = plt.subplots(1,2)\n",
        "\n",
        "#plot both of our plots with the same thing, calling on each ax in axes\n",
        "for ax in axes:\n",
        "  ax.plot(x,y,'g')\n",
        "  ax.set_xlabel('x')\n",
        "  ax.set_ylabel('y')\n",
        "  ax.set_title('title')\n",
        "\n",
        "#keep everything compact\n",
        "plt.tight_layout()\n",
        "\n",
        "#show your work\n",
        "plt.show()"
      ],
      "execution_count": 0,
      "outputs": []
    },
    {
      "cell_type": "code",
      "metadata": {
        "id": "VWb0xdSTTvZ6",
        "colab_type": "code",
        "colab": {}
      },
      "source": [
        "#Plot a vector\n",
        "\n",
        "#boundaries for the plot\n",
        "plt.xlim(0,3.5)\n",
        "plt.ylim(0,2.5)\n",
        "\n",
        "#plot a vector\n",
        "plt.arrow(0,0,3,2, width=0.03, head_width=0.1, head_length=0.1)\n",
        "plt.show()"
      ],
      "execution_count": 0,
      "outputs": []
    },
    {
      "cell_type": "code",
      "metadata": {
        "id": "AqzIErSGnkq_",
        "colab_type": "code",
        "colab": {}
      },
      "source": [
        "#function for a number line\n",
        "def number_line(x, title='', tick_step=5, \n",
        "                start=int(x.min()), end=int(x.max()+1)):\n",
        "  \n",
        "  #setup\n",
        "  ax = plt.subplot(5,1,1)\n",
        "  ax.spines['right'].set_visible(False)\n",
        "  ax.spines['left'].set_visible(False)\n",
        "  ax.spines['top'].set_visible(False)\n",
        "  ax.set(yticks=[])\n",
        "  ax.set_xlim(start, end)\n",
        "  ax.set_ylim(-.1, 1)\n",
        "  ax.patch.set_alpha(0.0)\n",
        "  ax.xaxis.set_ticks(np.arange(start, end, tick_step))\n",
        "  \n",
        "  ax.text(0.0, 0.5, title, fontsize=14)\n",
        "  plt.scatter(x, [0]*(len(x)), alpha=0.5, marker='v')\n",
        "\n",
        "  plt.show()"
      ],
      "execution_count": 0,
      "outputs": []
    },
    {
      "cell_type": "markdown",
      "metadata": {
        "id": "d78wSbO2CQPd",
        "colab_type": "text"
      },
      "source": [
        "#Pandas Plotting"
      ]
    },
    {
      "cell_type": "code",
      "metadata": {
        "id": "hbDVTDBRCkrZ",
        "colab_type": "code",
        "colab": {}
      },
      "source": [
        "#line graph\n",
        "df.plot()"
      ],
      "execution_count": 0,
      "outputs": []
    },
    {
      "cell_type": "code",
      "metadata": {
        "id": "avf-DuOSCqiR",
        "colab_type": "code",
        "colab": {}
      },
      "source": [
        "#bar graph\n",
        "df.plot.bar()"
      ],
      "execution_count": 0,
      "outputs": []
    },
    {
      "cell_type": "code",
      "metadata": {
        "id": "DB_wj4mpCPeS",
        "colab_type": "code",
        "colab": {}
      },
      "source": [
        "#histograms\n",
        "df.hist();"
      ],
      "execution_count": 0,
      "outputs": []
    },
    {
      "cell_type": "code",
      "metadata": {
        "id": "1SLVVhmNCbtB",
        "colab_type": "code",
        "colab": {}
      },
      "source": [
        "#scatter matrix\n",
        "pd.scatter_matrix(df)"
      ],
      "execution_count": 0,
      "outputs": []
    },
    {
      "cell_type": "markdown",
      "metadata": {
        "id": "PBtePzwx0JDv",
        "colab_type": "text"
      },
      "source": [
        "#Useful Plotting Statements"
      ]
    },
    {
      "cell_type": "code",
      "metadata": {
        "id": "nYAb53wGt0h2",
        "colab_type": "code",
        "colab": {}
      },
      "source": [
        "#reset styling\n",
        "import matplotlib as mpl\n",
        "mpl.rcParams.update(mpl.rcParamsDefault)"
      ],
      "execution_count": 0,
      "outputs": []
    },
    {
      "cell_type": "code",
      "metadata": {
        "id": "KjA9Iv5H0P7f",
        "colab_type": "code",
        "colab": {}
      },
      "source": [
        "#Clear the current figure\n",
        "plt.clf()"
      ],
      "execution_count": 0,
      "outputs": []
    },
    {
      "cell_type": "code",
      "metadata": {
        "id": "IlyZdCnP3MB-",
        "colab_type": "code",
        "colab": {}
      },
      "source": [
        "#Create a new plot figure instance\n",
        "fig = plt.figure()"
      ],
      "execution_count": 0,
      "outputs": []
    },
    {
      "cell_type": "code",
      "metadata": {
        "id": "HnmjlcMH3XFg",
        "colab_type": "code",
        "colab": {}
      },
      "source": [
        "#Set the plot style\n",
        "#Style Sheet Reference: \n",
        "# https://matplotlib.org/gallery/style_sheets/style_sheets_reference.html\n",
        "plt.style.use('fivethirtyeight')"
      ],
      "execution_count": 0,
      "outputs": []
    },
    {
      "cell_type": "code",
      "metadata": {
        "id": "GukaGBCD4OFv",
        "colab_type": "code",
        "colab": {}
      },
      "source": [
        "#Set color of the space around the graph\n",
        "#Color Demo: https://matplotlib.org/gallery/color/color_demo.html#sphx-glr-gallery-color-color-demo-py\n",
        "fig.patch.set_facecolor('#F0EEF1')"
      ],
      "execution_count": 0,
      "outputs": []
    },
    {
      "cell_type": "code",
      "metadata": {
        "id": "kJndrIUg4Tj2",
        "colab_type": "code",
        "colab": {}
      },
      "source": [
        "#Set color of the interior of the graph space\n",
        "ax.set_facecolor('#eafff5')"
      ],
      "execution_count": 0,
      "outputs": []
    },
    {
      "cell_type": "code",
      "metadata": {
        "id": "iPFpoQZa2-FZ",
        "colab_type": "code",
        "colab": {}
      },
      "source": [
        "#Set your axis labels\n",
        "#kwarg Text Params like fontweight and fontstyle: \n",
        "#  https://matplotlib.org/api/text_api.html#matplotlib.text.Text\n",
        "plt.ylabel('X Axis Label', fontsize=10, fontweight='bold')\n",
        "plt.xlabel('Y Axis Label', fontsize=10, fontweight='bold')"
      ],
      "execution_count": 0,
      "outputs": []
    },
    {
      "cell_type": "code",
      "metadata": {
        "id": "vDVi9_5995H0",
        "colab_type": "code",
        "colab": {}
      },
      "source": [
        "#Set a title\n",
        "plt.title('Title Text')"
      ],
      "execution_count": 0,
      "outputs": []
    },
    {
      "cell_type": "code",
      "metadata": {
        "id": "VYM-TeL-0hkN",
        "colab_type": "code",
        "colab": {}
      },
      "source": [
        "#Add text to your graph outside of label spaces\n",
        "#Documentation: https://matplotlib.org/api/_as_gen/matplotlib.axes.Axes.text.html\n",
        "ax.text(x=0,y=0, s=\"This string appears at (0,0)\", \n",
        "        fontsize=14, fontweight='bold');"
      ],
      "execution_count": 0,
      "outputs": []
    },
    {
      "cell_type": "code",
      "metadata": {
        "id": "kHOqZKqm1_gf",
        "colab_type": "code",
        "colab": {}
      },
      "source": [
        "#rotate your xtick labels\n",
        "ax.tick_params(labelrotation=0)"
      ],
      "execution_count": 0,
      "outputs": []
    },
    {
      "cell_type": "code",
      "metadata": {
        "id": "5GH2Vxk-45L0",
        "colab_type": "code",
        "colab": {}
      },
      "source": [
        "#Change the tick label color\n",
        "ax.tick_params(labelcolor='tab:orange')"
      ],
      "execution_count": 0,
      "outputs": []
    },
    {
      "cell_type": "code",
      "metadata": {
        "id": "n_mBoMSN2OE0",
        "colab_type": "code",
        "colab": {}
      },
      "source": [
        "#Set y-tick labels\n",
        "ax.set(yticks=range(0,50,10)) #Ticks from 0 to 50, every 10th unit"
      ],
      "execution_count": 0,
      "outputs": []
    },
    {
      "cell_type": "code",
      "metadata": {
        "id": "4frhgENTKAVy",
        "colab_type": "code",
        "colab": {}
      },
      "source": [
        "#Change tick label size\n",
        "ax.tick_params(axis='both', which='major', labelsize=10)\n",
        "ax.tick_params(axis='both', which='minor', labelsize=8)"
      ],
      "execution_count": 0,
      "outputs": []
    },
    {
      "cell_type": "code",
      "metadata": {
        "id": "vuhmKzGwXBXn",
        "colab_type": "code",
        "colab": {}
      },
      "source": [
        "#Set distance between tick label and tick\n",
        "ax.tick_params(pad=15)"
      ],
      "execution_count": 0,
      "outputs": []
    },
    {
      "cell_type": "code",
      "metadata": {
        "id": "77NtfFpH6OS5",
        "colab_type": "code",
        "colab": {}
      },
      "source": [
        "#No ticks on the x or y axis\n",
        "ax.set(xticks=[], yticks=[])"
      ],
      "execution_count": 0,
      "outputs": []
    },
    {
      "cell_type": "code",
      "metadata": {
        "id": "WDocIhVgY_Q3",
        "colab_type": "code",
        "colab": {}
      },
      "source": [
        "#Turn off X or Y axis grid lines\n",
        "ax.grid(b=False, axis='x')"
      ],
      "execution_count": 0,
      "outputs": []
    },
    {
      "cell_type": "code",
      "metadata": {
        "id": "986Y9jAK5KEP",
        "colab_type": "code",
        "colab": {}
      },
      "source": [
        "#Remove the legend\n",
        "ax.get_legend().remove()"
      ],
      "execution_count": 0,
      "outputs": []
    },
    {
      "cell_type": "code",
      "metadata": {
        "id": "qV3HfGgx5tBT",
        "colab_type": "code",
        "colab": {}
      },
      "source": [
        "#Adding a legend using labels\n",
        "ax.plot(x, x**2, label='x**2')\n",
        "ax.plot(x, x**3, label='x**3')\n",
        "ax.legend(loc=4) #add a legend based on the labels and set the location, loc=0... \n",
        "                 #or no loc sets what matplotlib thinks is optimal"
      ],
      "execution_count": 0,
      "outputs": []
    },
    {
      "cell_type": "code",
      "metadata": {
        "id": "sHquAAkQ51PB",
        "colab_type": "code",
        "colab": {}
      },
      "source": [
        "#Set the number of columns, more columns means longer thinner legend\n",
        "ax.legend(loc=(0,1), ncol=5)"
      ],
      "execution_count": 0,
      "outputs": []
    },
    {
      "cell_type": "code",
      "metadata": {
        "id": "NDra_3ap64gW",
        "colab_type": "code",
        "colab": {}
      },
      "source": [
        "#Annotate. Basically text with arrow\n",
        "#Documentation: https://matplotlib.org/users/annotations_guide.html\n",
        "ax.annotate('World War II', xytext=(24,22), xy=(20.7,15.5))"
      ],
      "execution_count": 0,
      "outputs": []
    },
    {
      "cell_type": "code",
      "metadata": {
        "id": "LtskHMaF7Lmk",
        "colab_type": "code",
        "colab": {}
      },
      "source": [
        "#Annotation with curved arrow. Pain in the butt to get just right\n",
        "ax.annotate('World War II', xytext=(24,22), xy=(20.7,15.5),arrowprops=dict(\n",
        "    arrowstyle='->',color='-1',connectionstyle=\"angle,angleA=15,angleB=85,rad=10\")"
      ],
      "execution_count": 0,
      "outputs": []
    },
    {
      "cell_type": "code",
      "metadata": {
        "id": "vd0oodgs79s9",
        "colab_type": "code",
        "colab": {}
      },
      "source": [
        "#Give a halo glow effect behind your text with path_effects\n",
        "import matplotlib.patheffects as pe\n",
        "\n",
        "ax.text(x=-0,y=0, s=\"Glow-tastic\",\n",
        "        path_effects=[pe.withStroke(linewidth=4, foreground=\"white\")])"
      ],
      "execution_count": 0,
      "outputs": []
    },
    {
      "cell_type": "code",
      "metadata": {
        "id": "Y9BlJOUg9GI-",
        "colab_type": "code",
        "colab": {}
      },
      "source": [
        "#logarithmic scale for an axis\n",
        "plt.xscale('log');"
      ],
      "execution_count": 0,
      "outputs": []
    },
    {
      "cell_type": "code",
      "metadata": {
        "id": "QGVyWuE39UKf",
        "colab_type": "code",
        "colab": {}
      },
      "source": [
        "#Set the limits of your plotting\n",
        "plt.xlim((20,90)) #start at 20, end at 90\n",
        "plt.ylim((20,90))"
      ],
      "execution_count": 0,
      "outputs": []
    },
    {
      "cell_type": "code",
      "metadata": {
        "id": "wO7W-WJa9gB1",
        "colab_type": "code",
        "colab": {}
      },
      "source": [
        "#add a horizontal line at y\n",
        "plt.axhline(y=50, color='grey')"
      ],
      "execution_count": 0,
      "outputs": []
    },
    {
      "cell_type": "code",
      "metadata": {
        "id": "3IAGAhrG9uDs",
        "colab_type": "code",
        "colab": {}
      },
      "source": [
        "#add a vertical line at x\n",
        "plt.axvline(x=50, color='grey')"
      ],
      "execution_count": 0,
      "outputs": []
    },
    {
      "cell_type": "code",
      "metadata": {
        "id": "3nxO1GTt9Vye",
        "colab_type": "code",
        "colab": {}
      },
      "source": [
        "#Remove spines (parts of the frame) of the graph\n",
        "ax.spines['right'].set_visible(False)\n",
        "ax.spines['top'].set_visible(False)"
      ],
      "execution_count": 0,
      "outputs": []
    },
    {
      "cell_type": "code",
      "metadata": {
        "id": "P_lmIvVX9nQ9",
        "colab_type": "code",
        "colab": {}
      },
      "source": [
        "#No frame at all\n",
        "ax.axis('off')"
      ],
      "execution_count": 0,
      "outputs": []
    },
    {
      "cell_type": "code",
      "metadata": {
        "id": "GER028N2MNyZ",
        "colab_type": "code",
        "colab": {}
      },
      "source": [
        "#Save a graph\n",
        "plt.savefig('filename.png')"
      ],
      "execution_count": 0,
      "outputs": []
    },
    {
      "cell_type": "markdown",
      "metadata": {
        "id": "2BTjcLxEJfsp",
        "colab_type": "text"
      },
      "source": [
        "#3D Plotting"
      ]
    },
    {
      "cell_type": "code",
      "metadata": {
        "id": "9upkG0JZJkTo",
        "colab_type": "code",
        "colab": {}
      },
      "source": [
        "#importing the matplot3d toolkit so we can pass the projection='3d' keyword\n",
        "from mpl_toolkits import mplot3d"
      ],
      "execution_count": 0,
      "outputs": []
    },
    {
      "cell_type": "code",
      "metadata": {
        "id": "RIC1DEvgJrWw",
        "colab_type": "code",
        "colab": {}
      },
      "source": [
        "#create a new figure and make it 3D\n",
        "fig = plt.figure()\n",
        "ax = plt.axes(projection='3d') #projection='3d'is passed to create a 3d plot. \n",
        "                               #Drop it and the graph drops down to 2D"
      ],
      "execution_count": 0,
      "outputs": []
    },
    {
      "cell_type": "code",
      "metadata": {
        "id": "rp6GlrX_JsIy",
        "colab_type": "code",
        "colab": {}
      },
      "source": [
        "#Example 3D-Plot\n",
        "ax = plt.axes(projection='3d')\n",
        "\n",
        "#Data for a three dimensional line\n",
        "zline = np.linspace(0,15,1000) #1000 evenly spaced points over the interval 0-15\n",
        "xline = np.sin(zline) #find the sin of zline\n",
        "yline = np.cos(zline) #find the cos of zline\n",
        "\n",
        "#plot a gray line in 3d space\n",
        "ax.plot3D(xline, yline, zline, 'gray')\n",
        "\n",
        "#Data for three dimensional scattered points\n",
        "zdata = 15 * np.random.random(100) #100 random numbers multiplied by 15\n",
        "xdata = np.sin(zdata) + .1 * np.random.randn(100)\n",
        "ydata = np.cos(zdata) + .1 * np.random.randn(100) \n",
        "\n",
        "#plot the points in 3d space with a green gradient\n",
        "ax.scatter3D(xdata, ydata, zdata, c=zdata, cmap='Greens');"
      ],
      "execution_count": 0,
      "outputs": []
    },
    {
      "cell_type": "code",
      "metadata": {
        "id": "qIVi5IlVLAuU",
        "colab_type": "code",
        "colab": {}
      },
      "source": [
        "#example Countour map\n",
        "\n",
        "#dummy data\n",
        "def f(x, y):\n",
        "  return np.sin(np.sqrt(x ** 2 + y ** 2))\n",
        "\n",
        "x = np.linspace(-6, 6, 30)\n",
        "y = np.linspace(-6, 6, 30)\n",
        "X, Y = np.meshgrid(x, y) #meshgrid returns coordinated \n",
        "                         #matrices from coordinated vectors\n",
        "Z = f(X, Y)\n",
        "\n",
        "#initialize fig and ax instance\n",
        "fig = plt.figure()\n",
        "ax = plt.axes(projection='3d')\n",
        "\n",
        "#labels\n",
        "ax.set_xlabel('x')\n",
        "ax.set_ylabel('y')\n",
        "ax.set_zlabel('z')\n",
        "\n",
        "#3d contour plot\n",
        "ax.contour3D(X, Y, Z, 50, cmap='binary')\n",
        "ax.view_init(60, 35) #Changing the viewing angle"
      ],
      "execution_count": 0,
      "outputs": []
    }
  ]
}
